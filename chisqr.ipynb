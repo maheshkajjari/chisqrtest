{
  "nbformat": 4,
  "nbformat_minor": 0,
  "metadata": {
    "colab": {
      "name": "chisqr.ipynb",
      "provenance": [],
      "collapsed_sections": [],
      "include_colab_link": true
    },
    "kernelspec": {
      "name": "python3",
      "display_name": "Python 3"
    }
  },
  "cells": [
    {
      "cell_type": "markdown",
      "metadata": {
        "id": "view-in-github",
        "colab_type": "text"
      },
      "source": [
        "<a href=\"https://colab.research.google.com/github/maheshkajjari/chisqrtest/blob/master/chisqr.ipynb\" target=\"_parent\"><img src=\"https://colab.research.google.com/assets/colab-badge.svg\" alt=\"Open In Colab\"/></a>"
      ]
    },
    {
      "cell_type": "markdown",
      "metadata": {
        "id": "Bj6C_S1pWGd8",
        "colab_type": "text"
      },
      "source": [
        "A company makes three types of electronic device. Life time in hours for each type of electronic device is given below:\n",
        "\n",
        "    life_type_A = [ 407, 411, 409 ]\n",
        "    life_type_B = [ 404, 406, 408, 405, 402 ]\n",
        "    ife_type_C = [ 410, 408, 406, 408]\n",
        "\n"
      ]
    },
    {
      "cell_type": "markdown",
      "metadata": {
        "id": "cyayt6phWLFY",
        "colab_type": "text"
      },
      "source": [
        "#importing libraries"
      ]
    },
    {
      "cell_type": "code",
      "metadata": {
        "id": "NROG4KAoU06Y",
        "colab_type": "code",
        "colab": {}
      },
      "source": [
        "import pandas as pd\n",
        "import numpy as np\n",
        "import matplotlib.pyplot as plt"
      ],
      "execution_count": null,
      "outputs": []
    },
    {
      "cell_type": "code",
      "metadata": {
        "id": "pbWKcHFSU6ny",
        "colab_type": "code",
        "colab": {}
      },
      "source": [
        "life_type_A = np.array([407,411,409])\n",
        "life_type_B = np.array([404,406,408,405,402])\n",
        "life_type_C = np.array([410,408,406,408])"
      ],
      "execution_count": null,
      "outputs": []
    },
    {
      "cell_type": "markdown",
      "metadata": {
        "id": "gKjU6zGDWSda",
        "colab_type": "text"
      },
      "source": [
        "#inferene on the group means from the above boxplots."
      ]
    },
    {
      "cell_type": "code",
      "metadata": {
        "id": "8lmLBAZ7U9lU",
        "colab_type": "code",
        "colab": {}
      },
      "source": [
        "life_type_A_mean = np.mean(life_type_A)\n",
        "life_type_B_mean = np.mean(life_type_B)\n",
        "life_type_C_mean = np.mean(life_type_C)"
      ],
      "execution_count": null,
      "outputs": []
    },
    {
      "cell_type": "code",
      "metadata": {
        "id": "vuCO1BlwVA1w",
        "colab_type": "code",
        "colab": {
          "base_uri": "https://localhost:8080/",
          "height": 72
        },
        "outputId": "d26593d7-fcbb-4500-8477-ba1503362b67"
      },
      "source": [
        "print(life_type_A_mean)\n",
        "print(life_type_B_mean)\n",
        "print(life_type_C_mean)"
      ],
      "execution_count": null,
      "outputs": [
        {
          "output_type": "stream",
          "text": [
            "409.0\n",
            "405.0\n",
            "408.0\n"
          ],
          "name": "stdout"
        }
      ]
    },
    {
      "cell_type": "markdown",
      "metadata": {
        "id": "uW8Fh_QzWW28",
        "colab_type": "text"
      },
      "source": [
        "#Boxplot"
      ]
    },
    {
      "cell_type": "code",
      "metadata": {
        "id": "Z5zrHj-pVFEa",
        "colab_type": "code",
        "colab": {
          "base_uri": "https://localhost:8080/",
          "height": 266
        },
        "outputId": "fffe66f4-4387-4522-fed3-6799249c13d3"
      },
      "source": [
        "plt.boxplot([life_type_A, life_type_B, life_type_C],\n",
        "labels = [\"Lifetime_A\",\"Lifetime_B\",\"Lifetime_C\"])\n",
        "plt.show()"
      ],
      "execution_count": null,
      "outputs": [
        {
          "output_type": "display_data",
          "data": {
            "image/png": "[encoded data removed]",
            "text/plain": [
              "<Figure size 432x288 with 1 Axes>"
            ]
          },
          "metadata": {
            "tags": [],
            "needs_background": "light"
          }
        }
      ]
    },
    {
      "cell_type": "markdown",
      "metadata": {
        "id": "7cH8fuLDVKNW",
        "colab_type": "text"
      },
      "source": [
        "#Observations:\n",
        "\n",
        "    1. There are no outliers .\n",
        "    2. Median and IQR ranges are different for all the products.\n",
        "    3. Large spread can b seen in B \n",
        "\n"
      ]
    },
    {
      "cell_type": "markdown",
      "metadata": {
        "id": "Ml38yFLeVNZY",
        "colab_type": "text"
      },
      "source": [
        " At 5% level of significance, is there any difference in the average lifetimes of the three types?"
      ]
    },
    {
      "cell_type": "code",
      "metadata": {
        "id": "jr1zYvwXVQ45",
        "colab_type": "code",
        "colab": {}
      },
      "source": [
        "from scipy.stats import f_oneway"
      ],
      "execution_count": null,
      "outputs": []
    },
    {
      "cell_type": "code",
      "metadata": {
        "id": "v6n2S0chVT0z",
        "colab_type": "code",
        "colab": {
          "base_uri": "https://localhost:8080/",
          "height": 54
        },
        "outputId": "a54a2268-266a-43a6-a88c-d9875321242a"
      },
      "source": [
        "fstat, pval = f_oneway(life_type_A, life_type_B, life_type_C)\n",
        "\n",
        "if pval<0.05:\n",
        "    print(\"We can reject Null Hypothesis that there is no difference in average lifetimes of the three product types\")\n",
        "else:\n",
        "    print(\"Yes, there is a difference in the average lifetimes of the three product types\")\n",
        "\n",
        "print(pval)"
      ],
      "execution_count": null,
      "outputs": [
        {
          "output_type": "stream",
          "text": [
            "We can reject Null Hypothesis that there is no difference in average lifetimes of the three product types\n",
            "0.04419417382415922\n"
          ],
          "name": "stdout"
        }
      ]
    },
    {
      "cell_type": "markdown",
      "metadata": {
        "id": "fzk4eNVNVdg-",
        "colab_type": "text"
      },
      "source": [
        "The operations manager changes his belief and now believes that 28% of their passengers prefer vegan food, 42% prefer vegetarian food , 25% prefer non-veg food 5% request for Jain food.\n",
        "\n",
        "At 5% level of significance, can you confirm that the meal preference is as per the belief of the operations manager?\n"
      ]
    },
    {
      "cell_type": "code",
      "metadata": {
        "id": "o-CfZzCFVgPQ",
        "colab_type": "code",
        "colab": {}
      },
      "source": [
        "from scipy.stats import chi2_contingency"
      ],
      "execution_count": null,
      "outputs": []
    },
    {
      "cell_type": "code",
      "metadata": {
        "id": "mfLQYLoIVo5-",
        "colab_type": "code",
        "colab": {
          "base_uri": "https://localhost:8080/",
          "height": 35
        },
        "outputId": "980a31e2-4509-4354-f09d-d52bdfd14545"
      },
      "source": [
        "X = [28, 42, 25, 5]\n",
        "\n",
        "chi2, pval, dof, expected = chi2_contingency(X)\n",
        "\n",
        "print(pval)"
      ],
      "execution_count": null,
      "outputs": [
        {
          "output_type": "stream",
          "text": [
            "1.0\n"
          ],
          "name": "stdout"
        }
      ]
    },
    {
      "cell_type": "markdown",
      "metadata": {
        "id": "5M10iElxVwz9",
        "colab_type": "text"
      },
      "source": [
        "Chi-square tests of independence"
      ]
    },
    {
      "cell_type": "markdown",
      "metadata": {
        "id": "zetXoxfxV0lI",
        "colab_type": "text"
      },
      "source": [
        "A Cable service provider company is interested in checking whether or not the customer churn depends on customer segment. Use 5% as level of significance\n"
      ]
    },
    {
      "cell_type": "code",
      "metadata": {
        "id": "hX00H11GVsjQ",
        "colab_type": "code",
        "colab": {
          "base_uri": "https://localhost:8080/",
          "height": 54
        },
        "outputId": "49a9401d-efb5-4b5b-e5dc-f5670b45223e"
      },
      "source": [
        "Y = [[15,142],\n",
        "    [24,400],\n",
        "    [30,389]]\n",
        "\n",
        "chi2, pval, dof, expected = chi2_contingency(Y)\n",
        "\n",
        "print(pval)\n",
        "\n",
        "if pval<0.05:\n",
        "    print(\"Customer churn is independent of Customer Segment\")\n",
        "else:\n",
        "    print(\"Yes, customer churn depends on Customer Segement\")"
      ],
      "execution_count": null,
      "outputs": [
        {
          "output_type": "stream",
          "text": [
            "0.24907816314986156\n",
            "Yes, customer churn depends on Customer Segement\n"
          ],
          "name": "stdout"
        }
      ]
    }
  ]
}